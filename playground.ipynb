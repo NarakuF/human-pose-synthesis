{
 "cells": [
  {
   "cell_type": "code",
   "execution_count": 1,
   "metadata": {},
   "outputs": [],
   "source": [
    "%load_ext autoreload\n",
    "%autoreload 2"
   ]
  },
  {
   "cell_type": "code",
   "execution_count": 9,
   "metadata": {},
   "outputs": [],
   "source": [
    "import cv2\n",
    "import pandas as pd\n",
    "import numpy as np\n",
    "import matplotlib.pyplot as plt\n",
    "\n",
    "import torch\n",
    "import torchvision\n",
    "import torch.nn as nn\n",
    "import torch.nn.functional as F\n",
    "from torch.utils.data import Dataset, DataLoader\n",
    "from torchvision import transforms, utils\n",
    "from torchvision import models\n",
    "import torch.optim as optim\n",
    "\n",
    "from utils.process_img import Rescale, DynamicCrop, ToTensor, CenterCrop\n",
    "from utils.func import weights_init\n",
    "from pose_dataset import PoseDataset, print_sample\n",
    "from model.generator import PoseGenerator\n",
    "from model.discriminator import PoseDiscriminator"
   ]
  },
  {
   "cell_type": "code",
   "execution_count": 3,
   "metadata": {},
   "outputs": [],
   "source": [
    "composed = transforms.Compose([Rescale(512),\n",
    "                               DynamicCrop(30),\n",
    "                               Rescale((128, 128))])\n",
    "\n",
    "pose_dataset = PoseDataset('./data/data_list.csv', './data', transform = composed)\n",
    "pose_dataloader = DataLoader(pose_dataset, batch_size=4, shuffle=True, num_workers=4)"
   ]
  },
  {
   "cell_type": "code",
   "execution_count": null,
   "metadata": {},
   "outputs": [],
   "source": [
    "# for i in range(10):\n",
    "#     sample = pose_dataset[i]\n",
    "#     print_sample(sample)"
   ]
  },
  {
   "cell_type": "code",
   "execution_count": null,
   "metadata": {
    "scrolled": true
   },
   "outputs": [],
   "source": [
    "# 测试:\n",
    "embeddings = pose_dataset.embeddings\n",
    "\n",
    "# Generator\n",
    "netG = PoseGenerator(embeddings).cuda()\n",
    "netG.apply(weights_init)\n",
    "# Discriminator\n",
    "netD = PoseDiscriminator(embeddings).cuda()\n",
    "netD.apply(weights_init)\n",
    "\n",
    "for i, sample in enumerate(pose_dataloader):\n",
    "    annotate = sample['annotate'].cuda()\n",
    "    noise = torch.randn(2, 64, 1, 1).cuda()\n",
    "    fake_img = netG(noise, annotate)\n",
    "    print(fake_img.shape)\n",
    "    \n",
    "    pred = netD(fake_img, annotate)\n",
    "    print(pred)\n",
    "    break"
   ]
  },
  {
   "cell_type": "code",
   "execution_count": 10,
   "metadata": {
    "scrolled": true
   },
   "outputs": [],
   "source": [
    "embeddings = pose_dataset.embeddings\n",
    "\n",
    "# Generator\n",
    "netG = PoseGenerator(embeddings).cuda()\n",
    "netG.apply(weights_init)\n",
    "# Discriminator\n",
    "netD = PoseDiscriminator(embeddings).cuda()\n",
    "netD.apply(weights_init)\n",
    "\n",
    "# Settings:\n",
    "criterion = nn.BCELoss()\n",
    "optimizerD = optim.Adam(netD.parameters())\n",
    "optimizerG = optim.Adam(netG.parameters())"
   ]
  },
  {
   "cell_type": "code",
   "execution_count": 14,
   "metadata": {
    "scrolled": true
   },
   "outputs": [
    {
     "name": "stdout",
     "output_type": "stream",
     "text": [
      "Starting Training Loop...\n",
      "[0/1][0/86]\tLoss_D: 1.5465\tLoss_G: 0.9717\tD(x): 0.5079\tD(G(z)): 0.4991 / 0.5473\n",
      "[0/1][1/86]\tLoss_D: 1.5159\tLoss_G: 0.6813\tD(x): 0.5107\tD(G(z)): 0.5169 / 0.5163\n",
      "[0/1][2/86]\tLoss_D: 1.4964\tLoss_G: 0.6867\tD(x): 0.5181\tD(G(z)): 0.5142 / 0.5167\n",
      "[0/1][3/86]\tLoss_D: 1.7075\tLoss_G: 0.6641\tD(x): 0.4613\tD(G(z)): 0.5181 / 0.5181\n",
      "[0/1][4/86]\tLoss_D: 1.4257\tLoss_G: 0.6638\tD(x): 0.5183\tD(G(z)): 0.5173 / 0.5162\n",
      "[0/1][5/86]\tLoss_D: 1.4464\tLoss_G: 0.6676\tD(x): 0.5133\tD(G(z)): 0.5158 / 0.5135\n"
     ]
    }
   ],
   "source": [
    "# Training Loop\n",
    "real_label = 1\n",
    "fake_label = 0\n",
    "\n",
    "# Lists to keep track of progress\n",
    "img_list = []\n",
    "G_losses = []\n",
    "D_losses = []\n",
    "iters = 0\n",
    "num_epochs = 1\n",
    "\n",
    "print(\"Starting Training Loop...\")\n",
    "# For each epoch\n",
    "for epoch in range(num_epochs):\n",
    "    # For each batch in the dataloader\n",
    "    for i, sample in enumerate(pose_dataloader, 0):\n",
    "        if i > 5:\n",
    "            break\n",
    "        batch_size = sample['raw'].shape[0]\n",
    "        # reformat the shape to be (batch_size, 3, 128, 128)\n",
    "        real_pose = torch.reshape(sample['pose'], (batch_size, 3, 128, 128)).float().cuda()\n",
    "        annotate = sample['annotate'].cuda()\n",
    "        \n",
    "        ############################\n",
    "        # (1) Update D network: maximize log(D(x)) + log(1 - D(G(z)))\n",
    "        ###########################\n",
    "        ## Train with all-real batch\n",
    "        netD.zero_grad()\n",
    "\n",
    "        label = torch.full((batch_size, ), real_label).cuda()      \n",
    "        output = netD(real_pose, annotate).view(-1)        \n",
    "        errD_real = criterion(output, label) # Calculate loss on all-real batch\n",
    "        errD_real.backward()\n",
    "        D_x = output.mean().item()\n",
    "        \n",
    "        ## Train with all-fake batch\n",
    "        noise = torch.randn(batch_size, 64, 1, 1).cuda()\n",
    "        fake_pose = netG(noise, annotate)\n",
    "        label.fill_(fake_label)\n",
    "        output = netD(fake_pose.detach(), annotate).view(-1)                \n",
    "        errD_fake = criterion(output, label)\n",
    "        errD_fake.backward()\n",
    "\n",
    "        D_G_z1 = output.mean().item()\n",
    "        errD = errD_real + errD_fake\n",
    "        optimizerD.step() # Update D\n",
    "        \n",
    "        \n",
    "        ############################\n",
    "        # (2) Update G network: maximize log(D(G(z)))\n",
    "        ###########################\n",
    "        netG.zero_grad()\n",
    "        label.fill_(real_label)  # fake labels are real for generator cost\n",
    "        \n",
    "        output = netD(fake_pose, annotate).view(-1) # Since we just updated D, perform another forward pass of all-fake batch through D\n",
    "        errG = criterion(output, label)\n",
    "        errG.backward()\n",
    "        \n",
    "        D_G_z2 = output.mean().item()\n",
    "        # Update G\n",
    "        optimizerG.step()\n",
    "\n",
    "        # Output training stats\n",
    "#         if i % 50 == 0:\n",
    "#             print('[%d/%d][%d/%d]\\tLoss_D: %.4f\\tLoss_G: %.4f\\tD(x): %.4f\\tD(G(z)): %.4f / %.4f'\n",
    "#                   % (epoch, num_epochs, i, len(dataloader),\n",
    "#                      errD.item(), errG.item(), D_x, D_G_z1, D_G_z2))\n",
    "        print('[%d/%d][%d/%d]\\tLoss_D: %.4f\\tLoss_G: %.4f\\tD(x): %.4f\\tD(G(z)): %.4f / %.4f'\n",
    "                  % (epoch, num_epochs, i, len(pose_dataloader),\n",
    "                     errD.item(), errG.item(), D_x, D_G_z1, D_G_z2))\n",
    "\n",
    "        # Save Losses for plotting later\n",
    "        G_losses.append(errG.item())\n",
    "        D_losses.append(errD.item())\n",
    "\n",
    "#         # Check how the generator is doing by saving G's output on fixed_noise\n",
    "#         if (iters % 500 == 0) or ((epoch == num_epochs-1) and (i == len(dataloader)-1)):\n",
    "#             with torch.no_grad():\n",
    "#                 fake = netG(fixed_noise).detach().cpu()\n",
    "#             img_list.append(vutils.make_grid(fake, padding=2, normalize=True))\n",
    "\n",
    "#         iters += 1\n",
    "        "
   ]
  },
  {
   "cell_type": "code",
   "execution_count": 6,
   "metadata": {},
   "outputs": [],
   "source": [
    "torch.cuda.empty_cache()"
   ]
  },
  {
   "cell_type": "code",
   "execution_count": null,
   "metadata": {},
   "outputs": [],
   "source": []
  }
 ],
 "metadata": {
  "kernelspec": {
   "display_name": "Python 3",
   "language": "python",
   "name": "python3"
  },
  "language_info": {
   "codemirror_mode": {
    "name": "ipython",
    "version": 3
   },
   "file_extension": ".py",
   "mimetype": "text/x-python",
   "name": "python",
   "nbconvert_exporter": "python",
   "pygments_lexer": "ipython3",
   "version": "3.6.8"
  }
 },
 "nbformat": 4,
 "nbformat_minor": 2
}
