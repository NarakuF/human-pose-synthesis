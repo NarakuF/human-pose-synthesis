{
 "cells": [
  {
   "cell_type": "code",
   "execution_count": 1,
   "metadata": {},
   "outputs": [],
   "source": [
    "%load_ext autoreload\n",
    "%autoreload 2"
   ]
  },
  {
   "cell_type": "code",
   "execution_count": 93,
   "metadata": {},
   "outputs": [],
   "source": [
    "import cv2\n",
    "import pandas as pd\n",
    "import numpy as np\n",
    "import matplotlib.pyplot as plt\n",
    "\n",
    "import torch\n",
    "import torchvision\n",
    "import torch.nn as nn\n",
    "import torch.nn.functional as F\n",
    "from torch.utils.data import Dataset, DataLoader\n",
    "from torchvision import transforms, utils\n",
    "from torchvision import models\n",
    "import torch.optim as optim\n",
    "\n",
    "from skimage import io, transform\n",
    "from utils.process_img import Rescale, DynamicCrop, ToTensor"
   ]
  },
  {
   "cell_type": "code",
   "execution_count": 94,
   "metadata": {},
   "outputs": [],
   "source": [
    "class PoseDataset(Dataset):\n",
    "    def __init__(self, csv_file, root_dir, transform = None):\n",
    "        self.data_list = pd.read_csv(csv_file)\n",
    "        self.root_dir = root_dir\n",
    "        self.transform = transform\n",
    "            \n",
    "    def __len__(self):\n",
    "        return self.data_list.shape[0]\n",
    "    \n",
    "    def __getitem__(self, idx):\n",
    "        data_instance = self.data_list.iloc[idx]\n",
    "        raw = cv2.imread(data_instance['raw'])\n",
    "        raw = cv2.cvtColor(raw, cv2.COLOR_BGR2RGB)\n",
    "        parsing = cv2.imread(data_instance['parsing'])\n",
    "        pose = cv2.imread(data_instance['pose'])\n",
    "        annotate = data_instance['annotate']\n",
    "        \n",
    "        sample = {'raw': raw, 'parsing': parsing, 'pose': pose, 'annotate': annotate}\n",
    "        if self.transform:\n",
    "            sample = self.transform(sample)\n",
    "        return sample\n",
    "    \n",
    "def print_sample(sample):\n",
    "    print(sample['annotate'])\n",
    "    fig = plt.figure(figsize=(13, 13))\n",
    "    for i in range(3):\n",
    "        fig.add_subplot(1,3,i+1)\n",
    "        img = sample[list(sample.keys())[i]]\n",
    "        plt.imshow(img)\n",
    "    plt.show()\n",
    "    return"
   ]
  },
  {
   "cell_type": "code",
   "execution_count": 97,
   "metadata": {
    "scrolled": true
   },
   "outputs": [],
   "source": [
    "composed = transforms.Compose([Rescale(512),\n",
    "                               DynamicCrop(50),\n",
    "                               Rescale((350, 256))])\n",
    "\n",
    "pose_dataset = PoseDataset('./data/data_list.csv', './data', composed)\n",
    "pose_dataloader = DataLoader(pose_dataset)"
   ]
  },
  {
   "cell_type": "code",
   "execution_count": 98,
   "metadata": {
    "scrolled": true
   },
   "outputs": [
    {
     "name": "stdout",
     "output_type": "stream",
     "text": [
      "{'raw': array([[[0.33344827, 0.43540906, 0.43148749],\n",
      "        [0.33333605, 0.43529683, 0.43137526],\n",
      "        [0.33333333, 0.43529412, 0.43137255],\n",
      "        ...,\n",
      "        [0.3224721 , 0.43619759, 0.41864778],\n",
      "        [0.32104782, 0.43477331, 0.41722351],\n",
      "        [0.31964392, 0.43336941, 0.4158196 ]],\n",
      "\n",
      "       [[0.336116  , 0.43807678, 0.43415521],\n",
      "        [0.33339907, 0.43535985, 0.43143828],\n",
      "        [0.33333333, 0.43529412, 0.43137255],\n",
      "        ...,\n",
      "        [0.3228819 , 0.43660739, 0.4209051 ],\n",
      "        [0.32035887, 0.43408436, 0.41838207],\n",
      "        [0.3170978 , 0.43082329, 0.415121  ]],\n",
      "\n",
      "       [[0.33772457, 0.43968535, 0.43576378],\n",
      "        [0.33343706, 0.43539785, 0.43147628],\n",
      "        [0.33333333, 0.43529412, 0.43137255],\n",
      "        ...,\n",
      "        [0.32164058, 0.43536607, 0.41967979],\n",
      "        [0.31966594, 0.43339143, 0.41770516],\n",
      "        [0.31453697, 0.42826246, 0.41257618]],\n",
      "\n",
      "       ...,\n",
      "\n",
      "       [[0.22189537, 0.28464047, 0.27287576],\n",
      "        [0.21966188, 0.28240698, 0.27064227],\n",
      "        [0.21960784, 0.28235294, 0.27058824],\n",
      "        ...,\n",
      "        [0.79618645, 0.16401784, 0.15083906],\n",
      "        [0.77540997, 0.15473632, 0.13968106],\n",
      "        [0.74900172, 0.14079266, 0.12158652]],\n",
      "\n",
      "       [[0.22190533, 0.28466749, 0.27285158],\n",
      "        [0.21966211, 0.28242428, 0.27060837],\n",
      "        [0.21960784, 0.28237001, 0.2705541 ],\n",
      "        ...,\n",
      "        [0.82042321, 0.15262026, 0.13103997],\n",
      "        [0.81241112, 0.15408207, 0.13084904],\n",
      "        [0.80458884, 0.15315557, 0.13319674]],\n",
      "\n",
      "       [[0.22305368, 0.28778451, 0.27006261],\n",
      "        [0.21968924, 0.28442007, 0.26669817],\n",
      "        [0.21960784, 0.28433867, 0.26661677],\n",
      "        ...,\n",
      "        [0.84202511, 0.14820531, 0.11859953],\n",
      "        [0.83939827, 0.15096516, 0.12153159],\n",
      "        [0.83941736, 0.15633239, 0.13223653]]]), 'parsing': array([[[0., 0., 0.],\n",
      "        [0., 0., 0.],\n",
      "        [0., 0., 0.],\n",
      "        ...,\n",
      "        [0., 0., 0.],\n",
      "        [0., 0., 0.],\n",
      "        [0., 0., 0.]],\n",
      "\n",
      "       [[0., 0., 0.],\n",
      "        [0., 0., 0.],\n",
      "        [0., 0., 0.],\n",
      "        ...,\n",
      "        [0., 0., 0.],\n",
      "        [0., 0., 0.],\n",
      "        [0., 0., 0.]],\n",
      "\n",
      "       [[0., 0., 0.],\n",
      "        [0., 0., 0.],\n",
      "        [0., 0., 0.],\n",
      "        ...,\n",
      "        [0., 0., 0.],\n",
      "        [0., 0., 0.],\n",
      "        [0., 0., 0.]],\n",
      "\n",
      "       ...,\n",
      "\n",
      "       [[0., 0., 0.],\n",
      "        [0., 0., 0.],\n",
      "        [0., 0., 0.],\n",
      "        ...,\n",
      "        [0., 0., 0.],\n",
      "        [0., 0., 0.],\n",
      "        [0., 0., 0.]],\n",
      "\n",
      "       [[0., 0., 0.],\n",
      "        [0., 0., 0.],\n",
      "        [0., 0., 0.],\n",
      "        ...,\n",
      "        [0., 0., 0.],\n",
      "        [0., 0., 0.],\n",
      "        [0., 0., 0.]],\n",
      "\n",
      "       [[0., 0., 0.],\n",
      "        [0., 0., 0.],\n",
      "        [0., 0., 0.],\n",
      "        ...,\n",
      "        [0., 0., 0.],\n",
      "        [0., 0., 0.],\n",
      "        [0., 0., 0.]]]), 'pose': array([[[0., 0., 0.],\n",
      "        [0., 0., 0.],\n",
      "        [0., 0., 0.],\n",
      "        ...,\n",
      "        [0., 0., 0.],\n",
      "        [0., 0., 0.],\n",
      "        [0., 0., 0.]],\n",
      "\n",
      "       [[0., 0., 0.],\n",
      "        [0., 0., 0.],\n",
      "        [0., 0., 0.],\n",
      "        ...,\n",
      "        [0., 0., 0.],\n",
      "        [0., 0., 0.],\n",
      "        [0., 0., 0.]],\n",
      "\n",
      "       [[0., 0., 0.],\n",
      "        [0., 0., 0.],\n",
      "        [0., 0., 0.],\n",
      "        ...,\n",
      "        [0., 0., 0.],\n",
      "        [0., 0., 0.],\n",
      "        [0., 0., 0.]],\n",
      "\n",
      "       ...,\n",
      "\n",
      "       [[0., 0., 0.],\n",
      "        [0., 0., 0.],\n",
      "        [0., 0., 0.],\n",
      "        ...,\n",
      "        [0., 0., 0.],\n",
      "        [0., 0., 0.],\n",
      "        [0., 0., 0.]],\n",
      "\n",
      "       [[0., 0., 0.],\n",
      "        [0., 0., 0.],\n",
      "        [0., 0., 0.],\n",
      "        ...,\n",
      "        [0., 0., 0.],\n",
      "        [0., 0., 0.],\n",
      "        [0., 0., 0.]],\n",
      "\n",
      "       [[0., 0., 0.],\n",
      "        [0., 0., 0.],\n",
      "        [0., 0., 0.],\n",
      "        ...,\n",
      "        [0., 0., 0.],\n",
      "        [0., 0., 0.],\n",
      "        [0., 0., 0.]]]), 'annotate': 'canoeing, on camping trip (Taylor Code 270)'}\n"
     ]
    }
   ],
   "source": [
    "for i in range(pose_dataset.)\n",
    "sample = pose_dataset[0]\n",
    "print(sample)\n",
    "#print(sample['raw'])\n",
    "#print_sample(sample)"
   ]
  },
  {
   "cell_type": "code",
   "execution_count": null,
   "metadata": {},
   "outputs": [],
   "source": []
  },
  {
   "cell_type": "code",
   "execution_count": null,
   "metadata": {},
   "outputs": [],
   "source": []
  },
  {
   "cell_type": "code",
   "execution_count": 58,
   "metadata": {},
   "outputs": [],
   "source": [
    "sample = pose_dataset[7]\n",
    "composed = transforms.Compose([Rescale(512),\n",
    "                               CenterCrop(400)])\n",
    "sample = composed(sample)"
   ]
  },
  {
   "cell_type": "code",
   "execution_count": 59,
   "metadata": {},
   "outputs": [
    {
     "data": {
      "text/plain": [
       "<matplotlib.image.AxesImage at 0x7f555235c710>"
      ]
     },
     "execution_count": 59,
     "metadata": {},
     "output_type": "execute_result"
    },
    {
     "data": {
      "image/png": "[encoded data removed]",
      "text/plain": [
       "<Figure size 432x288 with 1 Axes>"
      ]
     },
     "metadata": {
      "needs_background": "light"
     },
     "output_type": "display_data"
    }
   ],
   "source": [
    "plt.imshow(sample['pose'])"
   ]
  },
  {
   "cell_type": "code",
   "execution_count": null,
   "metadata": {},
   "outputs": [],
   "source": []
  },
  {
   "cell_type": "code",
   "execution_count": null,
   "metadata": {
    "scrolled": true
   },
   "outputs": [],
   "source": []
  },
  {
   "cell_type": "code",
   "execution_count": null,
   "metadata": {},
   "outputs": [],
   "source": [
    "sample = pose_dataset[0]\n",
    "sc = Rescale(1024)\n",
    "sample = sc(sample)\n",
    "dc = DynamicCrop(padding=96)\n",
    "plt.imshow(dc(sample)['parsing'])"
   ]
  },
  {
   "cell_type": "code",
   "execution_count": null,
   "metadata": {},
   "outputs": [],
   "source": [
    "plt.imshow(dc(sample)['pose'])\n"
   ]
  },
  {
   "cell_type": "code",
   "execution_count": null,
   "metadata": {},
   "outputs": [],
   "source": []
  }
 ],
 "metadata": {
  "kernelspec": {
   "display_name": "Python 3",
   "language": "python",
   "name": "python3"
  },
  "language_info": {
   "codemirror_mode": {
    "name": "ipython",
    "version": 3
   },
   "file_extension": ".py",
   "mimetype": "text/x-python",
   "name": "python",
   "nbconvert_exporter": "python",
   "pygments_lexer": "ipython3",
   "version": "3.6.8"
  }
 },
 "nbformat": 4,
 "nbformat_minor": 2
}
